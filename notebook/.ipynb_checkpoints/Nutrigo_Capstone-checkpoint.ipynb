{
 "cells": [
  {
   "cell_type": "markdown",
   "id": "cd568252-ea32-4d77-9a7c-ed5ae7cf74a7",
   "metadata": {},
   "source": [
    "Objective:- Build a recommendation system"
   ]
  },
  {
   "cell_type": "code",
   "execution_count": 1,
   "id": "6fa60e64-7e53-430c-8906-2dc5b75f51c5",
   "metadata": {},
   "outputs": [
    {
     "name": "stdout",
     "output_type": "stream",
     "text": [
      "Collecting surprise\n",
      "  Downloading surprise-0.1-py2.py3-none-any.whl.metadata (327 bytes)\n",
      "Collecting scikit-surprise (from surprise)\n",
      "  Downloading scikit_surprise-1.1.4.tar.gz (154 kB)\n",
      "\u001b[2K     \u001b[90m━━━━━━━━━━━━━━━━━━━━━━━━━━━━━━━━━━━━━━━\u001b[0m \u001b[32m154.4/154.4 kB\u001b[0m \u001b[31m1.5 MB/s\u001b[0m eta \u001b[36m0:00:00\u001b[0ma \u001b[36m0:00:01\u001b[0m\n",
      "\u001b[?25h  Installing build dependencies ... \u001b[?25ldone\n",
      "\u001b[?25h  Getting requirements to build wheel ... \u001b[?25ldone\n",
      "\u001b[?25h  Preparing metadata (pyproject.toml) ... \u001b[?25ldone\n",
      "\u001b[?25hRequirement already satisfied: joblib>=1.2.0 in /opt/anaconda3/lib/python3.11/site-packages (from scikit-surprise->surprise) (1.2.0)\n",
      "Requirement already satisfied: numpy>=1.19.5 in /opt/anaconda3/lib/python3.11/site-packages (from scikit-surprise->surprise) (1.26.4)\n",
      "Requirement already satisfied: scipy>=1.6.0 in /opt/anaconda3/lib/python3.11/site-packages (from scikit-surprise->surprise) (1.10.0)\n",
      "Downloading surprise-0.1-py2.py3-none-any.whl (1.8 kB)\n",
      "Building wheels for collected packages: scikit-surprise\n",
      "  Building wheel for scikit-surprise (pyproject.toml) ... \u001b[?25ldone\n",
      "\u001b[?25h  Created wheel for scikit-surprise: filename=scikit_surprise-1.1.4-cp311-cp311-macosx_10_9_x86_64.whl size=526446 sha256=68d08027f6a56fb5a0ac8784d96e76f61705b09b93e84f26faef0be83888a281\n",
      "  Stored in directory: /Users/kuriankgeorge/Library/Caches/pip/wheels/2a/8f/6e/7e2899163e2d85d8266daab4aa1cdabec7a6c56f83c015b5af\n",
      "Successfully built scikit-surprise\n",
      "Installing collected packages: scikit-surprise, surprise\n",
      "Successfully installed scikit-surprise-1.1.4 surprise-0.1\n",
      "Note: you may need to restart the kernel to use updated packages.\n"
     ]
    }
   ],
   "source": [
    "pip install surprise"
   ]
  },
  {
   "cell_type": "markdown",
   "id": "c483049a-6504-47ee-87ea-cf5d91d74a2b",
   "metadata": {},
   "source": [
    "import libraries"
   ]
  },
  {
   "cell_type": "code",
   "execution_count": 1,
   "id": "1d936d39-2e50-4a69-89f7-85bc785c371a",
   "metadata": {},
   "outputs": [],
   "source": [
    "import pandas as pd\n",
    "from sklearn.feature_extraction.text import TfidfVectorizer\n",
    "from sklearn.neighbors import NearestNeighbors\n",
    "from surprise import Dataset, Reader, SVD\n",
    "from surprise.model_selection import train_test_split\n",
    "from surprise import accuracy"
   ]
  },
  {
   "cell_type": "markdown",
   "id": "381786a8-02d7-4e3f-84f9-2fc2f3f4df78",
   "metadata": {},
   "source": [
    "Load data"
   ]
  },
  {
   "cell_type": "code",
   "execution_count": 2,
   "id": "f3f14f02-edab-4549-baf0-32e0b7e076b6",
   "metadata": {},
   "outputs": [],
   "source": [
    "recipe_df = pd.read_csv('/Users/kuriankgeorge/Desktop/aws/Capstone/06_NutriGro/data/NutriGro/core-data_recipe.csv')  \n",
    "train_interactions = pd.read_csv('/Users/kuriankgeorge/Desktop/aws/Capstone/06_NutriGro/data/NutriGro/core-data-train_rating.csv')"
   ]
  },
  {
   "cell_type": "markdown",
   "id": "c3748ec2-8379-468d-9bae-0373c7573515",
   "metadata": {},
   "source": [
    "Collaborative Filtering using Surprise SVD"
   ]
  },
  {
   "cell_type": "code",
   "execution_count": 3,
   "id": "64fc902b-f9be-4a89-b94d-0298792acd33",
   "metadata": {},
   "outputs": [],
   "source": [
    "reader = Reader(rating_scale=(1, 5))\n",
    "data = Dataset.load_from_df(train_interactions[['user_id', 'recipe_id', 'rating']], reader)\n",
    "trainset, testset = train_test_split(data, test_size=0.2)"
   ]
  },
  {
   "cell_type": "markdown",
   "id": "fd34dc8e-cc5c-444c-bdac-16cb1aa5296d",
   "metadata": {},
   "source": [
    "Train the SVD model"
   ]
  },
  {
   "cell_type": "code",
   "execution_count": 4,
   "id": "76b0e920-c05b-4bb0-8c91-5ec3e0ad7bfe",
   "metadata": {},
   "outputs": [
    {
     "data": {
      "text/plain": [
       "<surprise.prediction_algorithms.matrix_factorization.SVD at 0x1411b86d0>"
      ]
     },
     "execution_count": 4,
     "metadata": {},
     "output_type": "execute_result"
    }
   ],
   "source": [
    "svd = SVD()\n",
    "svd.fit(trainset)"
   ]
  },
  {
   "cell_type": "markdown",
   "id": "ccceef6f-0b82-4ee8-a1d4-c76af3f0f248",
   "metadata": {},
   "source": [
    "Evaluate on test set"
   ]
  },
  {
   "cell_type": "code",
   "execution_count": 5,
   "id": "4de42a43-12c3-417c-8b56-56e8ee5376ab",
   "metadata": {},
   "outputs": [
    {
     "name": "stdout",
     "output_type": "stream",
     "text": [
      "RMSE for Collaborative Filtering:\n",
      "RMSE: 0.8127\n"
     ]
    },
    {
     "data": {
      "text/plain": [
       "0.8126654328532433"
      ]
     },
     "execution_count": 5,
     "metadata": {},
     "output_type": "execute_result"
    }
   ],
   "source": [
    "predictions = svd.test(testset)\n",
    "print(\"RMSE for Collaborative Filtering:\")\n",
    "accuracy.rmse(predictions)"
   ]
  },
  {
   "cell_type": "markdown",
   "id": "c8d07a06-4030-4b6d-ba10-485d057140d3",
   "metadata": {},
   "source": [
    "Use Nearest Neighbors with cosine similarity"
   ]
  },
  {
   "cell_type": "code",
   "execution_count": 7,
   "id": "86fd6efb-46c8-4d5e-b0a8-d4968ebe1839",
   "metadata": {},
   "outputs": [
    {
     "data": {
      "text/html": [
       "<style>#sk-container-id-1 {color: black;background-color: white;}#sk-container-id-1 pre{padding: 0;}#sk-container-id-1 div.sk-toggleable {background-color: white;}#sk-container-id-1 label.sk-toggleable__label {cursor: pointer;display: block;width: 100%;margin-bottom: 0;padding: 0.3em;box-sizing: border-box;text-align: center;}#sk-container-id-1 label.sk-toggleable__label-arrow:before {content: \"▸\";float: left;margin-right: 0.25em;color: #696969;}#sk-container-id-1 label.sk-toggleable__label-arrow:hover:before {color: black;}#sk-container-id-1 div.sk-estimator:hover label.sk-toggleable__label-arrow:before {color: black;}#sk-container-id-1 div.sk-toggleable__content {max-height: 0;max-width: 0;overflow: hidden;text-align: left;background-color: #f0f8ff;}#sk-container-id-1 div.sk-toggleable__content pre {margin: 0.2em;color: black;border-radius: 0.25em;background-color: #f0f8ff;}#sk-container-id-1 input.sk-toggleable__control:checked~div.sk-toggleable__content {max-height: 200px;max-width: 100%;overflow: auto;}#sk-container-id-1 input.sk-toggleable__control:checked~label.sk-toggleable__label-arrow:before {content: \"▾\";}#sk-container-id-1 div.sk-estimator input.sk-toggleable__control:checked~label.sk-toggleable__label {background-color: #d4ebff;}#sk-container-id-1 div.sk-label input.sk-toggleable__control:checked~label.sk-toggleable__label {background-color: #d4ebff;}#sk-container-id-1 input.sk-hidden--visually {border: 0;clip: rect(1px 1px 1px 1px);clip: rect(1px, 1px, 1px, 1px);height: 1px;margin: -1px;overflow: hidden;padding: 0;position: absolute;width: 1px;}#sk-container-id-1 div.sk-estimator {font-family: monospace;background-color: #f0f8ff;border: 1px dotted black;border-radius: 0.25em;box-sizing: border-box;margin-bottom: 0.5em;}#sk-container-id-1 div.sk-estimator:hover {background-color: #d4ebff;}#sk-container-id-1 div.sk-parallel-item::after {content: \"\";width: 100%;border-bottom: 1px solid gray;flex-grow: 1;}#sk-container-id-1 div.sk-label:hover label.sk-toggleable__label {background-color: #d4ebff;}#sk-container-id-1 div.sk-serial::before {content: \"\";position: absolute;border-left: 1px solid gray;box-sizing: border-box;top: 0;bottom: 0;left: 50%;z-index: 0;}#sk-container-id-1 div.sk-serial {display: flex;flex-direction: column;align-items: center;background-color: white;padding-right: 0.2em;padding-left: 0.2em;position: relative;}#sk-container-id-1 div.sk-item {position: relative;z-index: 1;}#sk-container-id-1 div.sk-parallel {display: flex;align-items: stretch;justify-content: center;background-color: white;position: relative;}#sk-container-id-1 div.sk-item::before, #sk-container-id-1 div.sk-parallel-item::before {content: \"\";position: absolute;border-left: 1px solid gray;box-sizing: border-box;top: 0;bottom: 0;left: 50%;z-index: -1;}#sk-container-id-1 div.sk-parallel-item {display: flex;flex-direction: column;z-index: 1;position: relative;background-color: white;}#sk-container-id-1 div.sk-parallel-item:first-child::after {align-self: flex-end;width: 50%;}#sk-container-id-1 div.sk-parallel-item:last-child::after {align-self: flex-start;width: 50%;}#sk-container-id-1 div.sk-parallel-item:only-child::after {width: 0;}#sk-container-id-1 div.sk-dashed-wrapped {border: 1px dashed gray;margin: 0 0.4em 0.5em 0.4em;box-sizing: border-box;padding-bottom: 0.4em;background-color: white;}#sk-container-id-1 div.sk-label label {font-family: monospace;font-weight: bold;display: inline-block;line-height: 1.2em;}#sk-container-id-1 div.sk-label-container {text-align: center;}#sk-container-id-1 div.sk-container {/* jupyter's `normalize.less` sets `[hidden] { display: none; }` but bootstrap.min.css set `[hidden] { display: none !important; }` so we also need the `!important` here to be able to override the default hidden behavior on the sphinx rendered scikit-learn.org. See: https://github.com/scikit-learn/scikit-learn/issues/21755 */display: inline-block !important;position: relative;}#sk-container-id-1 div.sk-text-repr-fallback {display: none;}</style><div id=\"sk-container-id-1\" class=\"sk-top-container\"><div class=\"sk-text-repr-fallback\"><pre>NearestNeighbors(algorithm=&#x27;brute&#x27;, metric=&#x27;cosine&#x27;)</pre><b>In a Jupyter environment, please rerun this cell to show the HTML representation or trust the notebook. <br />On GitHub, the HTML representation is unable to render, please try loading this page with nbviewer.org.</b></div><div class=\"sk-container\" hidden><div class=\"sk-item\"><div class=\"sk-estimator sk-toggleable\"><input class=\"sk-toggleable__control sk-hidden--visually\" id=\"sk-estimator-id-1\" type=\"checkbox\" checked><label for=\"sk-estimator-id-1\" class=\"sk-toggleable__label sk-toggleable__label-arrow\">NearestNeighbors</label><div class=\"sk-toggleable__content\"><pre>NearestNeighbors(algorithm=&#x27;brute&#x27;, metric=&#x27;cosine&#x27;)</pre></div></div></div></div></div>"
      ],
      "text/plain": [
       "NearestNeighbors(algorithm='brute', metric='cosine')"
      ]
     },
     "execution_count": 7,
     "metadata": {},
     "output_type": "execute_result"
    }
   ],
   "source": [
    "knn = NearestNeighbors(metric='cosine', algorithm='brute')\n",
    "knn.fit(tfidf_matrix)"
   ]
  },
  {
   "cell_type": "markdown",
   "id": "d19b2fb7-cec0-49ec-92a8-0a4c1d860d38",
   "metadata": {},
   "source": [
    "Function to recommend recipes using Nearest Neighbors"
   ]
  },
  {
   "cell_type": "code",
   "execution_count": 8,
   "id": "2525f715-8b70-4e52-b1b3-d7432ecbf2d6",
   "metadata": {},
   "outputs": [],
   "source": [
    "def recommend_recipes_knn(recipe_id, top_n=10):\n",
    "    idx = recipe_df[recipe_df['recipe_id'] == recipe_id].index[0]\n",
    "    distances, indices = knn.kneighbors(tfidf_matrix[idx], n_neighbors=top_n+1)  # +1 to exclude the recipe itself\n",
    "    recipe_indices = indices.flatten()[1:]  # Exclude the first element (the recipe itself)\n",
    "    return recipe_df['recipe_name'].iloc[recipe_indices]"
   ]
  },
  {
   "cell_type": "markdown",
   "id": "a9e61c35-099f-4c22-b6db-997473b36d2f",
   "metadata": {},
   "source": [
    "Example: Recommend recipes for recipe_id 240488"
   ]
  },
  {
   "cell_type": "code",
   "execution_count": 9,
   "id": "b0857a3c-2083-436d-8d23-03745974cbeb",
   "metadata": {},
   "outputs": [
    {
     "name": "stdout",
     "output_type": "stream",
     "text": [
      "KNN-based recommendations: 1245      Slow Cooker Lancaster County Pork and Sauerkraut\n",
      "1331     Slow Cooker German-Style Pork Roast with Sauer...\n",
      "10863                     Slow Cooker Sauerkraut Pork Loin\n",
      "11008                            Pork Roast and Sauerkraut\n",
      "7189              Bill and Annette's One Pot Kraut Special\n",
      "6167                             Slow Cooker Kielbasa Stew\n",
      "11227                           Balsamic Roasted Pork Loin\n",
      "9104          Pork Roast with Apples, Beer, and Sauerkraut\n",
      "42580                        Smoked Sausage and Apple Bake\n",
      "7247              Vern's Roasted Pork Loin Over Sauerkraut\n",
      "Name: recipe_name, dtype: object\n"
     ]
    }
   ],
   "source": [
    "recommendations_knn = recommend_recipes_knn(240488) \n",
    "print(\"KNN-based recommendations:\", recommendations_knn)"
   ]
  },
  {
   "cell_type": "markdown",
   "id": "09c5a141-ebf3-4a60-82b4-86e16ff04554",
   "metadata": {},
   "source": [
    "Hybrid Approach (Combine Collaborative Filtering and Content-based Filtering)"
   ]
  },
  {
   "cell_type": "code",
   "execution_count": 10,
   "id": "f9e82115-b0ca-4fa4-be0a-d2f5748f7efc",
   "metadata": {},
   "outputs": [],
   "source": [
    "def hybrid_recommender(user_id, recipe_id, svd_model, knn, top_n=10, alpha=0.5):\n",
    "    # Collaborative filtering score\n",
    "    cf_score = svd_model.predict(user_id, recipe_id).est\n",
    "    \n",
    "    # Content-based score using NearestNeighbors\n",
    "    idx = recipe_df[recipe_df['recipe_id'] == recipe_id].index[0]\n",
    "    distances, indices = knn.kneighbors(tfidf_matrix[idx], n_neighbors=top_n+1)\n",
    "    content_score = 1 - distances.flatten().mean()  # Higher similarity leads to lower distance, so invert it\n",
    "    \n",
    "    # Hybrid score: weighted combination of both\n",
    "    return alpha * cf_score + (1 - alpha) * content_score"
   ]
  },
  {
   "cell_type": "markdown",
   "id": "e94cb572-daa0-45db-8d85-5b6970a3b93a",
   "metadata": {},
   "source": [
    "Example: Hybrid recommendation for user_id 11174581 and recipe_id 240488"
   ]
  },
  {
   "cell_type": "code",
   "execution_count": 12,
   "id": "76a10de7-9542-4780-bb3b-b7fe851d6df9",
   "metadata": {},
   "outputs": [
    {
     "name": "stdout",
     "output_type": "stream",
     "text": [
      "Hybrid recommendation score for user 11174581 and recipe 240488: 2.50169762184958\n"
     ]
    }
   ],
   "source": [
    "hybrid_score = hybrid_recommender(user_id=11174581, recipe_id=240488, svd_model=svd, knn=knn)\n",
    "print(f\"Hybrid recommendation score for user 11174581 and recipe 240488: {hybrid_score}\")"
   ]
  },
  {
   "cell_type": "code",
   "execution_count": null,
   "id": "c3214cec-c0f3-4548-80b9-35d20824f7a2",
   "metadata": {},
   "outputs": [],
   "source": []
  }
 ],
 "metadata": {
  "kernelspec": {
   "display_name": "Python 3 (ipykernel)",
   "language": "python",
   "name": "python3"
  },
  "language_info": {
   "codemirror_mode": {
    "name": "ipython",
    "version": 3
   },
   "file_extension": ".py",
   "mimetype": "text/x-python",
   "name": "python",
   "nbconvert_exporter": "python",
   "pygments_lexer": "ipython3",
   "version": "3.11.7"
  }
 },
 "nbformat": 4,
 "nbformat_minor": 5
}
