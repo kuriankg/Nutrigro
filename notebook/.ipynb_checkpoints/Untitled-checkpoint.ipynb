{
 "cells": [
  {
   "cell_type": "code",
   "execution_count": 1,
   "id": "02b35d0e-98cd-48fd-975c-e0c916e47813",
   "metadata": {},
   "outputs": [],
   "source": [
    "import pandas as pd\n",
    "import numpy as np"
   ]
  },
  {
   "cell_type": "code",
   "execution_count": 3,
   "id": "fab46f58-4785-4d34-b5ae-72665a38efa3",
   "metadata": {},
   "outputs": [],
   "source": [
    "core_data_recipe=pd.read_csv(\"core-data_recipe.csv\")"
   ]
  },
  {
   "cell_type": "code",
   "execution_count": 4,
   "id": "42cd73df-7244-44ce-a0f5-89dd110d7e36",
   "metadata": {},
   "outputs": [
    {
     "data": {
      "text/html": [
       "<div>\n",
       "<style scoped>\n",
       "    .dataframe tbody tr th:only-of-type {\n",
       "        vertical-align: middle;\n",
       "    }\n",
       "\n",
       "    .dataframe tbody tr th {\n",
       "        vertical-align: top;\n",
       "    }\n",
       "\n",
       "    .dataframe thead th {\n",
       "        text-align: right;\n",
       "    }\n",
       "</style>\n",
       "<table border=\"1\" class=\"dataframe\">\n",
       "  <thead>\n",
       "    <tr style=\"text-align: right;\">\n",
       "      <th></th>\n",
       "      <th>recipe_id</th>\n",
       "      <th>recipe_name</th>\n",
       "      <th>image_url</th>\n",
       "      <th>ingredients</th>\n",
       "      <th>cooking_directions</th>\n",
       "      <th>nutritions</th>\n",
       "    </tr>\n",
       "  </thead>\n",
       "  <tbody>\n",
       "    <tr>\n",
       "      <th>0</th>\n",
       "      <td>240488</td>\n",
       "      <td>Pork Loin, Apples, and Sauerkraut</td>\n",
       "      <td>https://images.media-allrecipes.com/userphotos...</td>\n",
       "      <td>sauerkraut drained^Granny Smith apples sliced^...</td>\n",
       "      <td>{'directions': u'Prep\\n15 m\\nCook\\n2 h 30 m\\nR...</td>\n",
       "      <td>{u'niacin': {u'hasCompleteData': False, u'name...</td>\n",
       "    </tr>\n",
       "    <tr>\n",
       "      <th>1</th>\n",
       "      <td>218939</td>\n",
       "      <td>Foolproof Rosemary Chicken Wings</td>\n",
       "      <td>https://images.media-allrecipes.com/userphotos...</td>\n",
       "      <td>chicken wings^sprigs rosemary^head garlic^oliv...</td>\n",
       "      <td>{'directions': u\"Prep\\n20 m\\nCook\\n40 m\\nReady...</td>\n",
       "      <td>{u'niacin': {u'hasCompleteData': True, u'name'...</td>\n",
       "    </tr>\n",
       "    <tr>\n",
       "      <th>2</th>\n",
       "      <td>87211</td>\n",
       "      <td>Chicken Pesto Paninis</td>\n",
       "      <td>https://images.media-allrecipes.com/userphotos...</td>\n",
       "      <td>focaccia bread quartered^prepared basil pesto^...</td>\n",
       "      <td>{'directions': u'Prep\\n15 m\\nCook\\n5 m\\nReady ...</td>\n",
       "      <td>{u'niacin': {u'hasCompleteData': True, u'name'...</td>\n",
       "    </tr>\n",
       "    <tr>\n",
       "      <th>3</th>\n",
       "      <td>245714</td>\n",
       "      <td>Potato Bacon Pizza</td>\n",
       "      <td>https://images.media-allrecipes.com/userphotos...</td>\n",
       "      <td>red potatoes^strips bacon^Sauce:^heavy whippin...</td>\n",
       "      <td>{'directions': u'Prep\\n20 m\\nCook\\n45 m\\nReady...</td>\n",
       "      <td>{u'niacin': {u'hasCompleteData': True, u'name'...</td>\n",
       "    </tr>\n",
       "    <tr>\n",
       "      <th>4</th>\n",
       "      <td>218545</td>\n",
       "      <td>Latin-Inspired Spicy Cream Chicken Stew</td>\n",
       "      <td>https://images.media-allrecipes.com/userphotos...</td>\n",
       "      <td>skinless boneless chicken breast halves^diced ...</td>\n",
       "      <td>{'directions': u'Prep\\n10 m\\nCook\\n8 h 15 m\\nR...</td>\n",
       "      <td>{u'niacin': {u'hasCompleteData': False, u'name...</td>\n",
       "    </tr>\n",
       "  </tbody>\n",
       "</table>\n",
       "</div>"
      ],
      "text/plain": [
       "   recipe_id                              recipe_name  \\\n",
       "0     240488        Pork Loin, Apples, and Sauerkraut   \n",
       "1     218939         Foolproof Rosemary Chicken Wings   \n",
       "2      87211                    Chicken Pesto Paninis   \n",
       "3     245714                       Potato Bacon Pizza   \n",
       "4     218545  Latin-Inspired Spicy Cream Chicken Stew   \n",
       "\n",
       "                                           image_url  \\\n",
       "0  https://images.media-allrecipes.com/userphotos...   \n",
       "1  https://images.media-allrecipes.com/userphotos...   \n",
       "2  https://images.media-allrecipes.com/userphotos...   \n",
       "3  https://images.media-allrecipes.com/userphotos...   \n",
       "4  https://images.media-allrecipes.com/userphotos...   \n",
       "\n",
       "                                         ingredients  \\\n",
       "0  sauerkraut drained^Granny Smith apples sliced^...   \n",
       "1  chicken wings^sprigs rosemary^head garlic^oliv...   \n",
       "2  focaccia bread quartered^prepared basil pesto^...   \n",
       "3  red potatoes^strips bacon^Sauce:^heavy whippin...   \n",
       "4  skinless boneless chicken breast halves^diced ...   \n",
       "\n",
       "                                  cooking_directions  \\\n",
       "0  {'directions': u'Prep\\n15 m\\nCook\\n2 h 30 m\\nR...   \n",
       "1  {'directions': u\"Prep\\n20 m\\nCook\\n40 m\\nReady...   \n",
       "2  {'directions': u'Prep\\n15 m\\nCook\\n5 m\\nReady ...   \n",
       "3  {'directions': u'Prep\\n20 m\\nCook\\n45 m\\nReady...   \n",
       "4  {'directions': u'Prep\\n10 m\\nCook\\n8 h 15 m\\nR...   \n",
       "\n",
       "                                          nutritions  \n",
       "0  {u'niacin': {u'hasCompleteData': False, u'name...  \n",
       "1  {u'niacin': {u'hasCompleteData': True, u'name'...  \n",
       "2  {u'niacin': {u'hasCompleteData': True, u'name'...  \n",
       "3  {u'niacin': {u'hasCompleteData': True, u'name'...  \n",
       "4  {u'niacin': {u'hasCompleteData': False, u'name...  "
      ]
     },
     "execution_count": 4,
     "metadata": {},
     "output_type": "execute_result"
    }
   ],
   "source": [
    "core_data_recipe.head()"
   ]
  },
  {
   "cell_type": "code",
   "execution_count": 5,
   "id": "27ca3259-0847-41da-9272-ab8236457b1a",
   "metadata": {},
   "outputs": [
    {
     "data": {
      "text/plain": [
       "(45630, 6)"
      ]
     },
     "execution_count": 5,
     "metadata": {},
     "output_type": "execute_result"
    }
   ],
   "source": [
    "core_data_recipe.shape"
   ]
  },
  {
   "cell_type": "code",
   "execution_count": 6,
   "id": "a8813b90-13a6-4748-9e2d-ad0b8d7a0c08",
   "metadata": {},
   "outputs": [],
   "source": [
    "core_data_test_rating=pd.read_csv(\"core-data-test_rating.csv\")"
   ]
  },
  {
   "cell_type": "code",
   "execution_count": 7,
   "id": "cd191720-d0c2-4117-afea-4e3991fd936c",
   "metadata": {},
   "outputs": [
    {
     "data": {
      "text/html": [
       "<div>\n",
       "<style scoped>\n",
       "    .dataframe tbody tr th:only-of-type {\n",
       "        vertical-align: middle;\n",
       "    }\n",
       "\n",
       "    .dataframe tbody tr th {\n",
       "        vertical-align: top;\n",
       "    }\n",
       "\n",
       "    .dataframe thead th {\n",
       "        text-align: right;\n",
       "    }\n",
       "</style>\n",
       "<table border=\"1\" class=\"dataframe\">\n",
       "  <thead>\n",
       "    <tr style=\"text-align: right;\">\n",
       "      <th></th>\n",
       "      <th>user_id</th>\n",
       "      <th>recipe_id</th>\n",
       "      <th>rating</th>\n",
       "      <th>dateLastModified</th>\n",
       "    </tr>\n",
       "  </thead>\n",
       "  <tbody>\n",
       "    <tr>\n",
       "      <th>0</th>\n",
       "      <td>5215572</td>\n",
       "      <td>55090</td>\n",
       "      <td>5</td>\n",
       "      <td>2015-01-09T18:05:22.95\\n</td>\n",
       "    </tr>\n",
       "    <tr>\n",
       "      <th>1</th>\n",
       "      <td>5215572</td>\n",
       "      <td>26317</td>\n",
       "      <td>4</td>\n",
       "      <td>2016-12-04T17:50:35.777\\n</td>\n",
       "    </tr>\n",
       "    <tr>\n",
       "      <th>2</th>\n",
       "      <td>5215572</td>\n",
       "      <td>15125</td>\n",
       "      <td>5</td>\n",
       "      <td>2014-02-12T13:51:37.007\\n</td>\n",
       "    </tr>\n",
       "    <tr>\n",
       "      <th>3</th>\n",
       "      <td>3622615</td>\n",
       "      <td>26317</td>\n",
       "      <td>5</td>\n",
       "      <td>2013-06-14T17:39:06.547\\n</td>\n",
       "    </tr>\n",
       "    <tr>\n",
       "      <th>4</th>\n",
       "      <td>1313770</td>\n",
       "      <td>55641</td>\n",
       "      <td>5</td>\n",
       "      <td>2015-06-24T19:07:02.493\\n</td>\n",
       "    </tr>\n",
       "  </tbody>\n",
       "</table>\n",
       "</div>"
      ],
      "text/plain": [
       "   user_id  recipe_id  rating           dateLastModified\n",
       "0  5215572      55090       5   2015-01-09T18:05:22.95\\n\n",
       "1  5215572      26317       4  2016-12-04T17:50:35.777\\n\n",
       "2  5215572      15125       5  2014-02-12T13:51:37.007\\n\n",
       "3  3622615      26317       5  2013-06-14T17:39:06.547\\n\n",
       "4  1313770      55641       5  2015-06-24T19:07:02.493\\n"
      ]
     },
     "execution_count": 7,
     "metadata": {},
     "output_type": "execute_result"
    }
   ],
   "source": [
    "core_data_test_rating.head()"
   ]
  },
  {
   "cell_type": "code",
   "execution_count": 8,
   "id": "5e929476-394f-498e-bdcc-e3708bc10144",
   "metadata": {},
   "outputs": [
    {
     "data": {
      "text/plain": [
       "(283440, 4)"
      ]
     },
     "execution_count": 8,
     "metadata": {},
     "output_type": "execute_result"
    }
   ],
   "source": [
    "core_data_test_rating.shape"
   ]
  },
  {
   "cell_type": "code",
   "execution_count": 10,
   "id": "c9755c6f-ea22-4bf7-8b3c-28e684826b7d",
   "metadata": {},
   "outputs": [],
   "source": [
    "core_data_train_rating=pd.read_csv(\"core-data-train_rating.csv\")"
   ]
  },
  {
   "cell_type": "code",
   "execution_count": 11,
   "id": "d82fdfec-7345-492c-92a7-110be6f89558",
   "metadata": {},
   "outputs": [
    {
     "data": {
      "text/html": [
       "<div>\n",
       "<style scoped>\n",
       "    .dataframe tbody tr th:only-of-type {\n",
       "        vertical-align: middle;\n",
       "    }\n",
       "\n",
       "    .dataframe tbody tr th {\n",
       "        vertical-align: top;\n",
       "    }\n",
       "\n",
       "    .dataframe thead th {\n",
       "        text-align: right;\n",
       "    }\n",
       "</style>\n",
       "<table border=\"1\" class=\"dataframe\">\n",
       "  <thead>\n",
       "    <tr style=\"text-align: right;\">\n",
       "      <th></th>\n",
       "      <th>user_id</th>\n",
       "      <th>recipe_id</th>\n",
       "      <th>rating</th>\n",
       "      <th>dateLastModified</th>\n",
       "    </tr>\n",
       "  </thead>\n",
       "  <tbody>\n",
       "    <tr>\n",
       "      <th>0</th>\n",
       "      <td>5215572</td>\n",
       "      <td>17991</td>\n",
       "      <td>5</td>\n",
       "      <td>2010-08-25T14:38:53.84\\n</td>\n",
       "    </tr>\n",
       "    <tr>\n",
       "      <th>1</th>\n",
       "      <td>5215572</td>\n",
       "      <td>170724</td>\n",
       "      <td>4</td>\n",
       "      <td>2010-09-09T14:04:45.733\\n</td>\n",
       "    </tr>\n",
       "    <tr>\n",
       "      <th>2</th>\n",
       "      <td>5215572</td>\n",
       "      <td>18045</td>\n",
       "      <td>5</td>\n",
       "      <td>2010-08-16T14:51:25.833\\n</td>\n",
       "    </tr>\n",
       "    <tr>\n",
       "      <th>3</th>\n",
       "      <td>3622615</td>\n",
       "      <td>60598</td>\n",
       "      <td>4</td>\n",
       "      <td>2009-03-15T12:10:20.85\\n</td>\n",
       "    </tr>\n",
       "    <tr>\n",
       "      <th>4</th>\n",
       "      <td>1313770</td>\n",
       "      <td>47519</td>\n",
       "      <td>5</td>\n",
       "      <td>2005-10-04T15:43:36.653\\n</td>\n",
       "    </tr>\n",
       "  </tbody>\n",
       "</table>\n",
       "</div>"
      ],
      "text/plain": [
       "   user_id  recipe_id  rating           dateLastModified\n",
       "0  5215572      17991       5   2010-08-25T14:38:53.84\\n\n",
       "1  5215572     170724       4  2010-09-09T14:04:45.733\\n\n",
       "2  5215572      18045       5  2010-08-16T14:51:25.833\\n\n",
       "3  3622615      60598       4   2009-03-15T12:10:20.85\\n\n",
       "4  1313770      47519       5  2005-10-04T15:43:36.653\\n"
      ]
     },
     "execution_count": 11,
     "metadata": {},
     "output_type": "execute_result"
    }
   ],
   "source": [
    "core_data_train_rating.head()"
   ]
  },
  {
   "cell_type": "code",
   "execution_count": 12,
   "id": "5c82930b-ccdd-49ce-af9d-25dba7235542",
   "metadata": {},
   "outputs": [
    {
     "data": {
      "text/plain": [
       "(676946, 4)"
      ]
     },
     "execution_count": 12,
     "metadata": {},
     "output_type": "execute_result"
    }
   ],
   "source": [
    "core_data_train_rating.shape"
   ]
  },
  {
   "cell_type": "code",
   "execution_count": 13,
   "id": "25f142b0-b4d1-4add-9316-55e29861a294",
   "metadata": {},
   "outputs": [],
   "source": [
    "core_data_valid_rating=pd.read_csv(\"core-data-valid_rating.csv\")"
   ]
  },
  {
   "cell_type": "code",
   "execution_count": 14,
   "id": "5a9b8058-71d8-4502-a9ed-4bbf6718fbb4",
   "metadata": {},
   "outputs": [
    {
     "data": {
      "text/html": [
       "<div>\n",
       "<style scoped>\n",
       "    .dataframe tbody tr th:only-of-type {\n",
       "        vertical-align: middle;\n",
       "    }\n",
       "\n",
       "    .dataframe tbody tr th {\n",
       "        vertical-align: top;\n",
       "    }\n",
       "\n",
       "    .dataframe thead th {\n",
       "        text-align: right;\n",
       "    }\n",
       "</style>\n",
       "<table border=\"1\" class=\"dataframe\">\n",
       "  <thead>\n",
       "    <tr style=\"text-align: right;\">\n",
       "      <th></th>\n",
       "      <th>user_id</th>\n",
       "      <th>recipe_id</th>\n",
       "      <th>rating</th>\n",
       "      <th>dateLastModified</th>\n",
       "    </tr>\n",
       "  </thead>\n",
       "  <tbody>\n",
       "    <tr>\n",
       "      <th>0</th>\n",
       "      <td>1313770</td>\n",
       "      <td>13988</td>\n",
       "      <td>5</td>\n",
       "      <td>2012-01-25T09:11:57.003\\n</td>\n",
       "    </tr>\n",
       "    <tr>\n",
       "      <th>1</th>\n",
       "      <td>880574</td>\n",
       "      <td>67952</td>\n",
       "      <td>4</td>\n",
       "      <td>2012-03-24T05:37:12.64\\n</td>\n",
       "    </tr>\n",
       "    <tr>\n",
       "      <th>2</th>\n",
       "      <td>880574</td>\n",
       "      <td>85389</td>\n",
       "      <td>5</td>\n",
       "      <td>2012-03-05T18:09:22.573\\n</td>\n",
       "    </tr>\n",
       "    <tr>\n",
       "      <th>3</th>\n",
       "      <td>880574</td>\n",
       "      <td>218597</td>\n",
       "      <td>4</td>\n",
       "      <td>2012-03-03T10:23:05.127\\n</td>\n",
       "    </tr>\n",
       "    <tr>\n",
       "      <th>4</th>\n",
       "      <td>880574</td>\n",
       "      <td>143069</td>\n",
       "      <td>3</td>\n",
       "      <td>2012-11-25T06:55:33.463\\n</td>\n",
       "    </tr>\n",
       "  </tbody>\n",
       "</table>\n",
       "</div>"
      ],
      "text/plain": [
       "   user_id  recipe_id  rating           dateLastModified\n",
       "0  1313770      13988       5  2012-01-25T09:11:57.003\\n\n",
       "1   880574      67952       4   2012-03-24T05:37:12.64\\n\n",
       "2   880574      85389       5  2012-03-05T18:09:22.573\\n\n",
       "3   880574     218597       4  2012-03-03T10:23:05.127\\n\n",
       "4   880574     143069       3  2012-11-25T06:55:33.463\\n"
      ]
     },
     "execution_count": 14,
     "metadata": {},
     "output_type": "execute_result"
    }
   ],
   "source": [
    "core_data_valid_rating.head()"
   ]
  },
  {
   "cell_type": "code",
   "execution_count": 15,
   "id": "74a8ea42-9f0a-467a-85d3-727182d8a44e",
   "metadata": {},
   "outputs": [
    {
     "data": {
      "text/plain": [
       "(133459, 4)"
      ]
     },
     "execution_count": 15,
     "metadata": {},
     "output_type": "execute_result"
    }
   ],
   "source": [
    "core_data_valid_rating.shape"
   ]
  },
  {
   "cell_type": "code",
   "execution_count": 16,
   "id": "824c348d-9c03-4b67-9dea-3b894557e2fd",
   "metadata": {},
   "outputs": [],
   "source": [
    "raw_data_interaction=pd.read_csv(\"raw-data_interaction.csv\")"
   ]
  },
  {
   "cell_type": "code",
   "execution_count": 17,
   "id": "273ca54a-c033-4442-9ace-8206d8c54ff9",
   "metadata": {},
   "outputs": [
    {
     "data": {
      "text/html": [
       "<div>\n",
       "<style scoped>\n",
       "    .dataframe tbody tr th:only-of-type {\n",
       "        vertical-align: middle;\n",
       "    }\n",
       "\n",
       "    .dataframe tbody tr th {\n",
       "        vertical-align: top;\n",
       "    }\n",
       "\n",
       "    .dataframe thead th {\n",
       "        text-align: right;\n",
       "    }\n",
       "</style>\n",
       "<table border=\"1\" class=\"dataframe\">\n",
       "  <thead>\n",
       "    <tr style=\"text-align: right;\">\n",
       "      <th></th>\n",
       "      <th>user_id</th>\n",
       "      <th>recipe_id</th>\n",
       "      <th>rating</th>\n",
       "      <th>dateLastModified</th>\n",
       "    </tr>\n",
       "  </thead>\n",
       "  <tbody>\n",
       "    <tr>\n",
       "      <th>0</th>\n",
       "      <td>8542392</td>\n",
       "      <td>222388</td>\n",
       "      <td>5</td>\n",
       "      <td>2017-04-22T12:46:43.663\\n</td>\n",
       "    </tr>\n",
       "    <tr>\n",
       "      <th>1</th>\n",
       "      <td>11174581</td>\n",
       "      <td>222388</td>\n",
       "      <td>5</td>\n",
       "      <td>2013-06-20T15:50:25.96\\n</td>\n",
       "    </tr>\n",
       "    <tr>\n",
       "      <th>2</th>\n",
       "      <td>8262477</td>\n",
       "      <td>222388</td>\n",
       "      <td>5</td>\n",
       "      <td>2015-02-14T07:27:51.307\\n</td>\n",
       "    </tr>\n",
       "    <tr>\n",
       "      <th>3</th>\n",
       "      <td>3574785</td>\n",
       "      <td>240488</td>\n",
       "      <td>5</td>\n",
       "      <td>2017-10-07T18:20:08.973\\n</td>\n",
       "    </tr>\n",
       "    <tr>\n",
       "      <th>4</th>\n",
       "      <td>12145410</td>\n",
       "      <td>240488</td>\n",
       "      <td>2</td>\n",
       "      <td>2018-01-06T00:06:09.563\\n</td>\n",
       "    </tr>\n",
       "  </tbody>\n",
       "</table>\n",
       "</div>"
      ],
      "text/plain": [
       "    user_id  recipe_id  rating           dateLastModified\n",
       "0   8542392     222388       5  2017-04-22T12:46:43.663\\n\n",
       "1  11174581     222388       5   2013-06-20T15:50:25.96\\n\n",
       "2   8262477     222388       5  2015-02-14T07:27:51.307\\n\n",
       "3   3574785     240488       5  2017-10-07T18:20:08.973\\n\n",
       "4  12145410     240488       2  2018-01-06T00:06:09.563\\n"
      ]
     },
     "execution_count": 17,
     "metadata": {},
     "output_type": "execute_result"
    }
   ],
   "source": [
    "raw_data_interaction.head()"
   ]
  },
  {
   "cell_type": "code",
   "execution_count": 18,
   "id": "5d6030e5-c06c-4462-aead-c310752a3440",
   "metadata": {},
   "outputs": [
    {
     "data": {
      "text/plain": [
       "(3794003, 4)"
      ]
     },
     "execution_count": 18,
     "metadata": {},
     "output_type": "execute_result"
    }
   ],
   "source": [
    "raw_data_interaction.shape"
   ]
  },
  {
   "cell_type": "code",
   "execution_count": 19,
   "id": "94ab41e5-5471-4dc0-987a-9ba36afa4d4c",
   "metadata": {},
   "outputs": [],
   "source": [
    "raw_data_recipe=pd.read_csv(\"raw-data_recipe.csv\")"
   ]
  },
  {
   "cell_type": "code",
   "execution_count": 20,
   "id": "df02195a-f179-4d79-913a-4a8186361c74",
   "metadata": {},
   "outputs": [
    {
     "data": {
      "text/html": [
       "<div>\n",
       "<style scoped>\n",
       "    .dataframe tbody tr th:only-of-type {\n",
       "        vertical-align: middle;\n",
       "    }\n",
       "\n",
       "    .dataframe tbody tr th {\n",
       "        vertical-align: top;\n",
       "    }\n",
       "\n",
       "    .dataframe thead th {\n",
       "        text-align: right;\n",
       "    }\n",
       "</style>\n",
       "<table border=\"1\" class=\"dataframe\">\n",
       "  <thead>\n",
       "    <tr style=\"text-align: right;\">\n",
       "      <th></th>\n",
       "      <th>recipe_id</th>\n",
       "      <th>recipe_name</th>\n",
       "      <th>aver_rate</th>\n",
       "      <th>image_url</th>\n",
       "      <th>review_nums</th>\n",
       "      <th>ingredients</th>\n",
       "      <th>cooking_directions</th>\n",
       "      <th>nutritions</th>\n",
       "      <th>reviews</th>\n",
       "    </tr>\n",
       "  </thead>\n",
       "  <tbody>\n",
       "    <tr>\n",
       "      <th>0</th>\n",
       "      <td>222388</td>\n",
       "      <td>Homemade Bacon</td>\n",
       "      <td>5.000000</td>\n",
       "      <td>https://images.media-allrecipes.com/userphotos...</td>\n",
       "      <td>3</td>\n",
       "      <td>pork belly^smoked paprika^kosher salt^ground b...</td>\n",
       "      <td>{'directions': u'Prep\\n5 m\\nCook\\n2 h 45 m\\nRe...</td>\n",
       "      <td>{u'niacin': {u'hasCompleteData': False, u'name...</td>\n",
       "      <td>{8542392: {'rating': 5, 'followersCount': 11, ...</td>\n",
       "    </tr>\n",
       "    <tr>\n",
       "      <th>1</th>\n",
       "      <td>240488</td>\n",
       "      <td>Pork Loin, Apples, and Sauerkraut</td>\n",
       "      <td>4.764706</td>\n",
       "      <td>https://images.media-allrecipes.com/userphotos...</td>\n",
       "      <td>29</td>\n",
       "      <td>sauerkraut drained^Granny Smith apples sliced^...</td>\n",
       "      <td>{'directions': u'Prep\\n15 m\\nCook\\n2 h 30 m\\nR...</td>\n",
       "      <td>{u'niacin': {u'hasCompleteData': False, u'name...</td>\n",
       "      <td>{3574785: {'rating': 5, 'followersCount': 0, '...</td>\n",
       "    </tr>\n",
       "    <tr>\n",
       "      <th>2</th>\n",
       "      <td>218939</td>\n",
       "      <td>Foolproof Rosemary Chicken Wings</td>\n",
       "      <td>4.571429</td>\n",
       "      <td>https://images.media-allrecipes.com/userphotos...</td>\n",
       "      <td>12</td>\n",
       "      <td>chicken wings^sprigs rosemary^head garlic^oliv...</td>\n",
       "      <td>{'directions': u\"Prep\\n20 m\\nCook\\n40 m\\nReady...</td>\n",
       "      <td>{u'niacin': {u'hasCompleteData': True, u'name'...</td>\n",
       "      <td>{13774946: {'rating': 5, 'followersCount': 0, ...</td>\n",
       "    </tr>\n",
       "    <tr>\n",
       "      <th>3</th>\n",
       "      <td>87211</td>\n",
       "      <td>Chicken Pesto Paninis</td>\n",
       "      <td>4.625000</td>\n",
       "      <td>https://images.media-allrecipes.com/userphotos...</td>\n",
       "      <td>163</td>\n",
       "      <td>focaccia bread quartered^prepared basil pesto^...</td>\n",
       "      <td>{'directions': u'Prep\\n15 m\\nCook\\n5 m\\nReady ...</td>\n",
       "      <td>{u'niacin': {u'hasCompleteData': True, u'name'...</td>\n",
       "      <td>{1563136: {'rating': 5, 'followersCount': 0, '...</td>\n",
       "    </tr>\n",
       "    <tr>\n",
       "      <th>4</th>\n",
       "      <td>245714</td>\n",
       "      <td>Potato Bacon Pizza</td>\n",
       "      <td>4.500000</td>\n",
       "      <td>https://images.media-allrecipes.com/userphotos...</td>\n",
       "      <td>2</td>\n",
       "      <td>red potatoes^strips bacon^Sauce:^heavy whippin...</td>\n",
       "      <td>{'directions': u'Prep\\n20 m\\nCook\\n45 m\\nReady...</td>\n",
       "      <td>{u'niacin': {u'hasCompleteData': True, u'name'...</td>\n",
       "      <td>{2945555: {'rating': 5, 'followersCount': 6690...</td>\n",
       "    </tr>\n",
       "  </tbody>\n",
       "</table>\n",
       "</div>"
      ],
      "text/plain": [
       "   recipe_id                        recipe_name  aver_rate  \\\n",
       "0     222388                     Homemade Bacon   5.000000   \n",
       "1     240488  Pork Loin, Apples, and Sauerkraut   4.764706   \n",
       "2     218939   Foolproof Rosemary Chicken Wings   4.571429   \n",
       "3      87211              Chicken Pesto Paninis   4.625000   \n",
       "4     245714                 Potato Bacon Pizza   4.500000   \n",
       "\n",
       "                                           image_url  review_nums  \\\n",
       "0  https://images.media-allrecipes.com/userphotos...            3   \n",
       "1  https://images.media-allrecipes.com/userphotos...           29   \n",
       "2  https://images.media-allrecipes.com/userphotos...           12   \n",
       "3  https://images.media-allrecipes.com/userphotos...          163   \n",
       "4  https://images.media-allrecipes.com/userphotos...            2   \n",
       "\n",
       "                                         ingredients  \\\n",
       "0  pork belly^smoked paprika^kosher salt^ground b...   \n",
       "1  sauerkraut drained^Granny Smith apples sliced^...   \n",
       "2  chicken wings^sprigs rosemary^head garlic^oliv...   \n",
       "3  focaccia bread quartered^prepared basil pesto^...   \n",
       "4  red potatoes^strips bacon^Sauce:^heavy whippin...   \n",
       "\n",
       "                                  cooking_directions  \\\n",
       "0  {'directions': u'Prep\\n5 m\\nCook\\n2 h 45 m\\nRe...   \n",
       "1  {'directions': u'Prep\\n15 m\\nCook\\n2 h 30 m\\nR...   \n",
       "2  {'directions': u\"Prep\\n20 m\\nCook\\n40 m\\nReady...   \n",
       "3  {'directions': u'Prep\\n15 m\\nCook\\n5 m\\nReady ...   \n",
       "4  {'directions': u'Prep\\n20 m\\nCook\\n45 m\\nReady...   \n",
       "\n",
       "                                          nutritions  \\\n",
       "0  {u'niacin': {u'hasCompleteData': False, u'name...   \n",
       "1  {u'niacin': {u'hasCompleteData': False, u'name...   \n",
       "2  {u'niacin': {u'hasCompleteData': True, u'name'...   \n",
       "3  {u'niacin': {u'hasCompleteData': True, u'name'...   \n",
       "4  {u'niacin': {u'hasCompleteData': True, u'name'...   \n",
       "\n",
       "                                             reviews  \n",
       "0  {8542392: {'rating': 5, 'followersCount': 11, ...  \n",
       "1  {3574785: {'rating': 5, 'followersCount': 0, '...  \n",
       "2  {13774946: {'rating': 5, 'followersCount': 0, ...  \n",
       "3  {1563136: {'rating': 5, 'followersCount': 0, '...  \n",
       "4  {2945555: {'rating': 5, 'followersCount': 6690...  "
      ]
     },
     "execution_count": 20,
     "metadata": {},
     "output_type": "execute_result"
    }
   ],
   "source": [
    "raw_data_recipe.head()"
   ]
  },
  {
   "cell_type": "code",
   "execution_count": 21,
   "id": "53ce2fb2-a048-47fc-8ec2-c650474abb91",
   "metadata": {},
   "outputs": [
    {
     "data": {
      "text/plain": [
       "(49698, 9)"
      ]
     },
     "execution_count": 21,
     "metadata": {},
     "output_type": "execute_result"
    }
   ],
   "source": [
    "raw_data_recipe.shape"
   ]
  },
  {
   "cell_type": "code",
   "execution_count": null,
   "id": "1e467a10-295d-4d3a-bce9-f0f757905017",
   "metadata": {},
   "outputs": [],
   "source": []
  }
 ],
 "metadata": {
  "kernelspec": {
   "display_name": "Python 3 (ipykernel)",
   "language": "python",
   "name": "python3"
  },
  "language_info": {
   "codemirror_mode": {
    "name": "ipython",
    "version": 3
   },
   "file_extension": ".py",
   "mimetype": "text/x-python",
   "name": "python",
   "nbconvert_exporter": "python",
   "pygments_lexer": "ipython3",
   "version": "3.11.7"
  }
 },
 "nbformat": 4,
 "nbformat_minor": 5
}
